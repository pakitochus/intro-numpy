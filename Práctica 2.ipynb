{
 "cells": [
  {
   "cell_type": "markdown",
   "metadata": {},
   "source": [
    "# Práctica 2: Planificación de Trayectorias\n",
    "En la práctica 1 realizamos la estimación de las variables de articulación para un robot de tipo RR utilizando el problema cinemático directo y el problema cinemático inverso. Gracias a ello, pudimos simular el movimiento de un robot a lo largo de una trayectoria rectilínea con velocidad constante, y observar las diferentes indeterminaciones que existían. \n",
    "\n",
    "En el mundo real, las trayectorias son más complejas que una línea a velocidad constante. Normalmente se requiere tener en cuenta que comenzamos a velocidad 0 y debemos acabar a la misma velocidad 0, y que la trayectoria no va a ser totalmente recta, puesto que muchas veces tenemos que sortear obstáculos. De este modo, se puede definir la **trayectoria 3-4-3** que vamos a definir en esta práctica. \n",
    "\n",
    "En esta práctica realizaremos un planificador de trayectorias de tipo 3-4-3, en las que las velocidades y aceleraciones inicial y final son nulas. Hemos definido este tipo de trayectorias en teoría, pero recordaremos que constan de tres fases, que interpolan los puntos de inicio, despegue, asentamiento y fin, que nombramos como $\\mathbf{p}_{ini}$, $\\mathbf{p}_{des}$, $\\mathbf{p}_{ase}$ y $\\mathbf{p}_{fin}$. \n",
    "\n",
    "Para ello: \n",
    "1. Usaremos las funciones `pcd` y `pci` de la práctica anterior, para poder calcular los parámetros del robot.\n",
    "2. Definiremos la función `planif`, que tomará como entrada estos puntos, el tiempo de duración de cada uno de los trayectos y el periodo de muestreo (para la representación de la trayectoria). Esta función nos tiene que devolver un array con los coeficientes de cada una de las trayectorias. \n",
    "3. Evaluaremos $\\theta_1(t)$ y $\\theta_2(t)$ en cada instante usando dichos coeficientes, y mostraremos el robot utilizando la función `robot`y las animaciones que usamos en la práctica anterior. \n",
    "4. Mostraremos también gráficas con el progreso de las variables $\\theta$, la velocidad y la aceleración del robot en cada instante de tiempo. "
   ]
  },
  {
   "cell_type": "code",
   "execution_count": null,
   "metadata": {},
   "outputs": [],
   "source": [
    "import numpy as np"
   ]
  },
  {
   "cell_type": "markdown",
   "metadata": {},
   "source": [
    "En primer lugar, definiremos las posiciones de cada punto de inicio, despegue, asentamiento y fin ($\\mathbf{p}_{ini}$, $\\mathbf{p}_{des}$, $\\mathbf{p}_{ase}$ y $\\mathbf{p}_{fin}$)."
   ]
  },
  {
   "cell_type": "code",
   "execution_count": null,
   "metadata": {},
   "outputs": [],
   "source": [
    "# Datos de inicio\n",
    "pini = np.array([1, 0])\n",
    "pdes = np.array([1, 0.1])\n",
    "pase = np.array([1.5, 0.1])\n",
    "pfin = np.array([1.5, 0])\n",
    "t1, t2, tn = 1,1,1\n",
    "L1, L2 = 1,1\n",
    "T = 0.01"
   ]
  },
  {
   "cell_type": "markdown",
   "metadata": {},
   "source": [
    "### Trayectoria 3-4-3\n",
    "Como hemos visto en el tema 4, las trayectorias del tipo 4-3-4 siguen unas ecuaciones predefinidas. Para empezar, asumimos que: \n",
    "- En el punto de inicio, la aceleración y velocidad son nulas.\n",
    "- En el punto final la velocidad y aceleración son nulas. \n",
    "- En los puntos intermedios debe haber continuidad en posición, velocidad y aceleración. \n",
    "\n",
    "A lo largo de la práctica podremos utilizar el tiempo normalizado: \n",
    "\n",
    "$$ t = \\frac{\\tau-\\tau_{i-1}}{\\tau_{i}-\\tau_{i-1}} = \\frac{\\tau-\\tau_{i-1}}{t_i} $$\n",
    "\n",
    "Donde $\\tau$ es el tiempo real en segundos, $\\tau_i$ es el tiempo real al final del $i$-esimo intervalo y $t_i$ es el tiempo total requerido en dicho intervalo. \n",
    "\n",
    "Si fuera una sola línea, obtendríamos un polinomio de grado 8, dificil de resolver y que puede conducir a movimientos extraños y bruscos. Así pues, dividimos la trayectoria en tres segmentos con polinomios de grado 4, 3 y 4. Los polinomios que definen cada trayectoria ($h_1$, $h_2$ y $h_n$) son:\n",
    "\n",
    "$$ h_1(t) = a_{14}t^4 + a_{13}t^3 + a_{12}t^2 + a_{11}t + a_{10} $$\n",
    "$$ h_2(t) = a_{23}t^3 + a_{22}t^2 + a_{21}t + a_{20} $$\n",
    "$$ h_n(t) = a_{n4}t^4 + a_{n3}t^3 + a_{n2}t^2 + a_{n1}t + a_{n0} $$\n",
    "\n",
    "Hay algunos parámetros $a_{ij}$ que se derivan de una serie de ecuaciones de continuidad, y podéis encontrarlos en las transparencias. Para el resto necesitamos la ecuación matricial que define las condiciones (1) y (7): \n",
    "\n",
    "$$ \\mathbf{y} = \\mathbf{C}\\mathbf{x}$$\n",
    "\n",
    "con los vectores:\n",
    "\n",
    "$$ \\mathbf{y} = (\\delta_1 - \\frac{a_0t_1^2}{2}-v_0t_1, -a_0t1-v_0, -a_0, \\delta_2, -a_ft_n + v_f, a_f, \\delta_n + \\frac{a_ft_n^2}{2}-v_ft_n)$$\n",
    "\n",
    "(Nota: en la definición de y, los $a$ y $v$ son la aceleración y la velocidad en los puntos iniciales y final, no los parámetros $a$). \n",
    "\n",
    "$$\\mathbf{x} = (a_{13}, a_{14}, a_{21}, a_{22}, a_{23}, a_{n3}, a_{n4})$$\n",
    "\n",
    "Por lo que podemos obtener los parámetros como los diferentes componentes de $\\mathbf{x}$:\n",
    "\n",
    "$$ \\mathbf{x} = \\mathbf{C}^{-1}\\mathbf{y}$$\n",
    "\n",
    "Podéis encontrar la matriz $\\mathbf{C}$ en las transparencias. ¡Cuidado con la posición de cada elemento!\n",
    "\n",
    "### Resumiendo: \n",
    "1. Para obtener los valores de $\\theta_1$ y $\\theta_2$ tenemos que evaluar los polinomios $h_1$, $h_2$ y $h_n$ (definimos los tres polinomios para **cada** articulación) en el tiempo. \n",
    "2. Para calcular $h_1$, $h_2$ y $h_n$, debemos obtener todos los coeficientes $a_{ij}$. \n",
    "3. Para calcular los coeficientes $a_{ij}$ necesistamos conocer los valores de $\\theta_i$, $a$ (aceleración) y $v$ (velocidad) al principio y al final de la trayectoria. Algunos irán en las fórmulas directas y otros en $\\mathbf{C}$ e $\\mathbf{y}$. \n",
    "4. Para calcular los $\\theta_i$ en los puntos de inicio, despegue, asentamiento y fin haremos uso del `pci` de la práctica anterior. "
   ]
  },
  {
   "cell_type": "code",
   "execution_count": null,
   "metadata": {},
   "outputs": [],
   "source": [
    "# Copiar y pegar PCI anterior... \n"
   ]
  },
  {
   "cell_type": "code",
   "execution_count": null,
   "metadata": {},
   "outputs": [],
   "source": [
    "# Obtenemos los ángulos theta 1 y theta 2 en cada punto. Si es necesario elegir, \n",
    "# usaremos el par de soluciones positivo, o cuando thant == 0\n"
   ]
  },
  {
   "cell_type": "markdown",
   "metadata": {},
   "source": [
    "Vamos al meollo de la cuestión. Hay que definir la función `planif`. Las entradas serán los diferentes $\\theta$, y la salida deben ser los coeficientes de las tres ecuaciones de la trayectoria (habrá que ejecutar planif 2 veces, una para cada articulación). Ver Tema 4.2 de teoría, a partir de página 20. \n",
    "\n",
    "Se recomienda devolver los coeficientes como un array 2D, donde cada fila es una trayectoria (3 filas), y los coeficientes están ordenados de menor exponente a mayor (5 columnas). "
   ]
  },
  {
   "cell_type": "code",
   "execution_count": null,
   "metadata": {},
   "outputs": [],
   "source": [
    "# Aquí vamos a definir nuestra función planif. \n",
    "def planif(thini, thdes, thase, thfin, t1=1., t2=1., tn=1.):\n",
    "    # Cuerpo de la función"
   ]
  },
  {
   "cell_type": "code",
   "execution_count": null,
   "metadata": {},
   "outputs": [],
   "source": [
    "# Ahora, guardamos las ecuaciones de la trayectoria para cada articulación. \n",
    "coef1 = planif(thini[0],thdes[0],thase[0],thfin[0],t1,t2,tn)\n",
    "coef2 = planif(thini[1],thdes[1],thase[1],thfin[1],t1,t2,tn)\n",
    "\n",
    "print(coef1)\n",
    "print(coef2)"
   ]
  },
  {
   "cell_type": "markdown",
   "metadata": {},
   "source": [
    "Ahora evaluamos los polinomios en cada intervalo de tiempo usando `polyval`, y los concatenamos. Recordad que, por la formalización que hemos utilizado en `planif` (la que hemos estudiado en teoría), utilizamos el tiempo normalizado: \n",
    "\n",
    "$$ t = \\frac{\\tau-\\tau_{i-1}}{\\tau_i -\\tau_{i-1}}$$\n",
    "\n",
    "con $\\tau$ el tiempo en segundos, $\\tau_i$ el tiempo al final de la $i$-ésima trayectoria y $\\tau_i-\\tau_{i-1}$ el tiempo que toma en la iésima trayectoria. Asimismo, recuerda que en el último segmento realizamos un último cambio de variable $\\hat{t}=t-1$, con lo que el rango de tiempo normalizado pasa de (0,1) a (-1,0). "
   ]
  },
  {
   "cell_type": "code",
   "execution_count": null,
   "metadata": {},
   "outputs": [],
   "source": [
    "from numpy.polynomial.polynomial import polyval\n",
    "\n",
    "# Primero, evalua cada ángulo en el intervalo correspondiente\n",
    "\n",
    "# Después, concatena todos los intervalos para tener un solo vector con los valores de cada angulo en función del tiempo"
   ]
  },
  {
   "cell_type": "markdown",
   "metadata": {},
   "source": [
    "## Trazado de la Trayectoria\n",
    "Ahora nos ponemos visuales. Vamos a representar el movimiento del robot y los diferentes puntos de la trayectoria. Usaremos `matplotlib.pyplot` para visualización y las herramientas que ya utilizamos anteriormente para dibujar la animación. "
   ]
  },
  {
   "cell_type": "code",
   "execution_count": null,
   "metadata": {},
   "outputs": [],
   "source": [
    "import matplotlib.pyplot as plt\n",
    "%matplotlib inline\n",
    "from matplotlib import animation\n",
    "from IPython.display import HTML "
   ]
  },
  {
   "cell_type": "markdown",
   "metadata": {},
   "source": [
    "Aquí reutilizamos el código para pintar el robot utilizando PCD (probablemente se llamara `pintarPCD2`) y sus dependencias (`init`, el `robot` y `pcd` que corresponda). \n",
    "\n",
    "Recordad que ahora ya disponemos de los valores de theta en cada punto, de modo que habrá que modificar nuestra antigua función `pintarPCD` para que trabaje directamente con estos valores. "
   ]
  },
  {
   "cell_type": "code",
   "execution_count": null,
   "metadata": {},
   "outputs": [],
   "source": [
    "# Aquí es donde copiamos el código de la práctica anterior y modificamos pintarPCD.\n"
   ]
  },
  {
   "cell_type": "code",
   "execution_count": null,
   "metadata": {
    "scrolled": true
   },
   "outputs": [],
   "source": [
    "#Llamamos a los constructores de la animación (recordad que hemos definido T en la primera caja)\n",
    "N = j1.shape[0]#longitud del vector donde hayamos guardado todos los theta_1 o theta_2\n",
    "anim = animation.FuncAnimation(fig, pintarPCD2, frames = N, fargs = (L1, L2, j1, j2, ax), interval = .1/T) \n",
    "HTML(anim.to_html5_video())\n",
    "#anim.save('video.mp4') # Si hay problemas con visualización inline."
   ]
  },
  {
   "cell_type": "markdown",
   "metadata": {},
   "source": [
    "## Visualización de las variables\n",
    "Ahora mostraremos, en función del tiempo: \n",
    "1. Los valores de $\\theta_1$ y $\\theta_2$\n",
    "2. Los valores de velocidad $v_1$ y $v_2$\n",
    "3. Los valores de aceleración $a_1$ y $a_2$\n",
    "\n",
    "Para obtener la velocidad y aceleración, sabemos que son la primera y segunda derivada de las funciones de trayectoria $h_1$, $h_2$ y $h_n$, así que utilizaremos `polyder` para derivar el polinomio correspondiente, junto con `polyval`, para evaluar estas derivadas. "
   ]
  },
  {
   "cell_type": "code",
   "execution_count": null,
   "metadata": {
    "scrolled": true
   },
   "outputs": [],
   "source": [
    "# Dibuja aquí la progresión de los dos ángulos theta1 y theta2\n",
    "t = np.arange(0, t1+t2+tn, T)\n"
   ]
  },
  {
   "cell_type": "code",
   "execution_count": null,
   "metadata": {},
   "outputs": [],
   "source": [
    "# Aquí cargamos polyder y mostramos la velocidad\n",
    "from numpy.polynomial.polynomial import polyder\n"
   ]
  },
  {
   "cell_type": "code",
   "execution_count": null,
   "metadata": {},
   "outputs": [],
   "source": [
    "# Y aquí mostramos la aceleración (segunda derivada)"
   ]
  }
 ],
 "metadata": {
  "anaconda-cloud": {},
  "kernelspec": {
   "display_name": "Python 3",
   "language": "python",
   "name": "python3"
  },
  "language_info": {
   "codemirror_mode": {
    "name": "ipython",
    "version": 3
   },
   "file_extension": ".py",
   "mimetype": "text/x-python",
   "name": "python",
   "nbconvert_exporter": "python",
   "pygments_lexer": "ipython3",
   "version": "3.6.4"
  }
 },
 "nbformat": 4,
 "nbformat_minor": 2
}
