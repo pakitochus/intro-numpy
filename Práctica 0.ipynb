{
 "cells": [
  {
   "cell_type": "markdown",
   "metadata": {},
   "source": [
    "# Introducción a Jupyter, Numpy y Matplotlib"
   ]
  },
  {
   "cell_type": "markdown",
   "metadata": {},
   "source": [
    "## Inicialización de una libreta Jupyter"
   ]
  },
  {
   "cell_type": "markdown",
   "metadata": {},
   "source": [
    "Para inicializar la libreta y poderla utilizar con mumpy y matplotlib, y asegurarse que los gráficos se presenten donde deben de estar es necesario ejecutar las siguientes instrucciones:"
   ]
  },
  {
   "cell_type": "code",
   "execution_count": 4,
   "metadata": {
    "collapsed": false
   },
   "outputs": [],
   "source": [
    "%matplotlib inline\n",
    "import numpy as np\n",
    "import matplotlib.pyplot as plt"
   ]
  },
  {
   "cell_type": "markdown",
   "metadata": {},
   "source": [
    "Recuerda que hay que ejecutar cada celda (cell) con *ctrl-enter* o con el simbolo de la flechita arriba de la libreta.\n",
    "\n",
    "La primer linea es un comando específico de Ipython conocidos como *comandos mágicos*. En este comando le especificamos a la libreta que vamos a utilizar matplotlib para hacer gráficas y que queremos que las anexe dentro del documento. Existen muchos comandos mágicos, algunos muy útiles que vamos a ir viendo sobre la marcha, por ejempo el comando `%time` para medir el tiempo de ejecución de una celda, o `%timeit` para ejecutar en bucle un comando y obtener una estimación del tiempo de cómputo promedio. Para una explicacion completa está la libreta http://nbviewer.ipython.or%g/github/ipython/ipython/blob/1.x/examples/notebooks/Cell%20Magics.ipynb. \n",
    "\n",
    "En versiones nuevas de **Jupyter**, podemos utilizar el *cell magic* `%matplotlib notebook`, que crea un lugar en el que se van a visualizar todas las imágenes del notebook. Según el caso, esto puede ser más o menos conveniente, pero aquí somos muy tradicionales y vamos a usar el anterior. \n"
   ]
  },
  {
   "cell_type": "markdown",
   "metadata": {},
   "source": [
    "## Inicializando variables en Numpy"
   ]
  },
  {
   "cell_type": "markdown",
   "metadata": {},
   "source": [
    "Numpy es la librería por excelencia para el cálculo científico. Gracias a Numpy podemos trabajar con objetos que son arrays multidimensionales con un alto rendimiento, usando las herramientas que provee. Es, hablando rápidamente, una potente alternativa a MATLAB. \n",
    "\n",
    "Numpy agrega a python básicamente dos nuevos tipos o clases, de los cuales solo nos vamos a interesar por los arrays multidimensionales o `ndarray`. La manera más sencilla de crear un array (vector o matriz) es utilizando `array` como:"
   ]
  },
  {
   "cell_type": "code",
   "execution_count": 5,
   "metadata": {
    "collapsed": false
   },
   "outputs": [
    {
     "name": "stdout",
     "output_type": "stream",
     "text": [
      "vector a = [  1.       3.1416  40.       0.       2.       5.    ]\n",
      "matriz A = [[1 2]\n",
      " [3 4]\n",
      " [5 6]]\n"
     ]
    }
   ],
   "source": [
    "# Crea un objeto vector\n",
    "vector_a = np.array([1, 3.1416, 40, 0, 2, 5])\n",
    "print(\"vector a = \"+str(vector_a))\n",
    "\n",
    "# Crea una matriz\n",
    "matriz_A = np.array([[1, 2], [3, 4], [5, 6]])\n",
    "print(\"matriz A = \"+str(matriz_A))"
   ]
  },
  {
   "cell_type": "markdown",
   "metadata": {},
   "source": [
    "Esta es la manera más directa para crear arrays, pero no es la única. Existen otras formas de crear arrays según el tipo de datos que queremos que contengan: \n",
    "\n",
    "* arange(ini=0, fin, inc=1): Devuelve un ndarray iniciando en ini y terminando en fin, con incrementos de inc\n",
    "\n",
    "* zeros(dim): Devuelve un ndarray de dimensión dim (si es un escalar se considera un vector, si es una tupla de números entonces\n",
    "son las dimensiones del ndarray), con todas sus entradas en cero. \n",
    "      \n",
    "* ones(dim): Similar a zeros() pero con unos.\n",
    "    \n",
    "* eye(x, y=none): si solo se tiene el argumento x devuelve una matriz identidad de $x \\times x$. Si se encuentra y,\n",
    "entonces una matriz diagonal rectangular de dimensión x por y.\n",
    "      \n",
    "* zeros_like( x ): Un ndarray de ceros de la misma dimensión que x (igual existe ones_like).\n",
    "    \n",
    "* linspace(inicial, final, elementos): Devuelve un ndarray de una dimensión iniciando en inicial, hasta final de \n",
    "manera que existan elementos numeros igualmente espaciados. Muy útil para graficación principalmente.\n",
    "      \n",
    "* random.rand(dim1, dim2, ...): Devuelve un ndarray de dimensiones dim1 por dim2 por ... con números aleatorios\n",
    "generados por una distribución uniforme entre 0 y 1. \n",
    "      \n",
    "Veamos unos cuantos ejemplos:"
   ]
  },
  {
   "cell_type": "code",
   "execution_count": 6,
   "metadata": {
    "collapsed": false
   },
   "outputs": [
    {
     "name": "stdout",
     "output_type": "stream",
     "text": [
      "Un vector de ceros con 5 valores\n",
      "[ 0.  0.  0.  0.  0.]\n"
     ]
    }
   ],
   "source": [
    "vZ = np.zeros(5)\n",
    "print(\"Un vector de ceros con 5 valores\")\n",
    "print(vZ)"
   ]
  },
  {
   "cell_type": "code",
   "execution_count": 7,
   "metadata": {
    "collapsed": false
   },
   "outputs": [
    {
     "name": "stdout",
     "output_type": "stream",
     "text": [
      "Una matriz de 3 x 10 sólo con unos\n",
      "[[ 1.  1.  1.  1.  1.  1.  1.  1.  1.  1.]\n",
      " [ 1.  1.  1.  1.  1.  1.  1.  1.  1.  1.]\n",
      " [ 1.  1.  1.  1.  1.  1.  1.  1.  1.  1.]]\n"
     ]
    }
   ],
   "source": [
    "mO = np.ones((3, 10))\n",
    "print(\"Una matriz de 3 x 10 sólo con unos\")\n",
    "print(mO)"
   ]
  },
  {
   "cell_type": "code",
   "execution_count": 8,
   "metadata": {
    "collapsed": false
   },
   "outputs": [
    {
     "name": "stdout",
     "output_type": "stream",
     "text": [
      "va = \n",
      "[0 1 2 3 4 5 6 7 8 9]\n"
     ]
    }
   ],
   "source": [
    "# Utilizaremos arange más adelante para crear intervalos de tiempo\n",
    "va = np.arange(10)\n",
    "print(\"va = \")\n",
    "print(va)"
   ]
  },
  {
   "cell_type": "code",
   "execution_count": 9,
   "metadata": {
    "collapsed": false
   },
   "outputs": [
    {
     "name": "stdout",
     "output_type": "stream",
     "text": [
      "vb = \n",
      "[ -1.00000000e+00  -9.00000000e-01  -8.00000000e-01  -7.00000000e-01\n",
      "  -6.00000000e-01  -5.00000000e-01  -4.00000000e-01  -3.00000000e-01\n",
      "  -2.00000000e-01  -1.00000000e-01  -2.22044605e-16   1.00000000e-01\n",
      "   2.00000000e-01   3.00000000e-01   4.00000000e-01   5.00000000e-01\n",
      "   6.00000000e-01   7.00000000e-01   8.00000000e-01   9.00000000e-01]\n"
     ]
    }
   ],
   "source": [
    "vb = np.arange(-1,1,0.1)\n",
    "print(\"vb = \")\n",
    "print(vb)"
   ]
  },
  {
   "cell_type": "code",
   "execution_count": 10,
   "metadata": {
    "collapsed": false
   },
   "outputs": [
    {
     "name": "stdout",
     "output_type": "stream",
     "text": [
      "Y una matriz de ceros de las dimensiones de mO:\n",
      "[[ 0.  0.  0.  0.  0.  0.  0.  0.  0.  0.]\n",
      " [ 0.  0.  0.  0.  0.  0.  0.  0.  0.  0.]\n",
      " [ 0.  0.  0.  0.  0.  0.  0.  0.  0.  0.]]\n"
     ]
    }
   ],
   "source": [
    "print(\"Y una matriz de ceros de las dimensiones de mO:\")\n",
    "print(np.zeros_like(mO))"
   ]
  },
  {
   "cell_type": "code",
   "execution_count": 11,
   "metadata": {
    "collapsed": false
   },
   "outputs": [
    {
     "name": "stdout",
     "output_type": "stream",
     "text": [
      "También podemos crearla como:\n",
      "[[ 0.  0.  0.  0.  0.  0.  0.  0.  0.  0.]\n",
      " [ 0.  0.  0.  0.  0.  0.  0.  0.  0.  0.]\n",
      " [ 0.  0.  0.  0.  0.  0.  0.  0.  0.  0.]]\n"
     ]
    }
   ],
   "source": [
    "print(\"También podemos crearla como:\")\n",
    "print(np.zeros(mO.shape))"
   ]
  },
  {
   "cell_type": "code",
   "execution_count": 24,
   "metadata": {
    "collapsed": false
   },
   "outputs": [
    {
     "name": "stdout",
     "output_type": "stream",
     "text": [
      "Y una matriz con números aleatorios bajo una distribución uniforme entre 0 y 1\n",
      "[[  1.94405957e-01   8.37117614e-01   2.84398588e-01   5.07658998e-01\n",
      "    1.46668908e-01   4.16341143e-01   8.79262220e-01   4.80166454e-02\n",
      "    2.09772283e-01   6.38102528e-01   2.33213210e-01   9.84216407e-01]\n",
      " [  7.17830607e-02   7.35227992e-01   6.45469105e-01   1.75951517e-04\n",
      "    9.87957964e-01   2.46644752e-01   3.33152164e-01   7.02063943e-01\n",
      "    9.78335548e-01   7.53665381e-01   6.84741929e-01   4.90935501e-01]\n",
      " [  3.47566348e-01   2.38164470e-01   8.31562571e-01   3.18290225e-01\n",
      "    7.18151875e-01   5.20272520e-02   6.50971615e-01   1.12954734e-01\n",
      "    6.43017956e-01   7.87447793e-01   8.62939066e-01   4.09111149e-01]\n",
      " [  2.79245858e-01   5.71404507e-01   2.08218602e-01   2.23566285e-02\n",
      "    1.73634174e-01   2.37861643e-03   6.82285263e-01   2.06192846e-01\n",
      "    1.56610966e-01   3.26110602e-01   4.37487372e-01   7.43466761e-01]\n",
      " [  8.31279969e-01   7.82537952e-01   7.98715192e-01   2.52017056e-01\n",
      "    9.55712559e-01   9.85158764e-01   8.02410902e-01   6.68546651e-01\n",
      "    3.48302813e-01   6.02325400e-01   3.59958787e-01   7.98903948e-01]]\n"
     ]
    }
   ],
   "source": [
    "mA = np.random.rand(5, 12)\n",
    "print(\"Y una matriz con números aleatorios bajo una distribución uniforme entre 0 y 1\")\n",
    "print(mA)"
   ]
  },
  {
   "cell_type": "markdown",
   "metadata": {},
   "source": [
    "### Primer problema a resolver (20 puntos): "
   ]
  },
  {
   "cell_type": "markdown",
   "metadata": {},
   "source": [
    "En la siguiente celda (o puedes crear las que consideres convenientes) crea las siguientes matrices:\n",
    "\n",
    "* Una matriz de 4 por 6 con valores aleatorios de acuerdo a una distribución normal con media cero y varianza unitaria.\n",
    "    \n",
    "* Un vector de 10 elementos con valores aleatorios de números enteros entre 4 y 100 (randint)\n",
    "    \n",
    "* Una matriz diagonal de 5 por 5 cuyos elementos de la diagonal sean (1, 2, 3, 4, 5)"
   ]
  },
  {
   "cell_type": "code",
   "execution_count": 62,
   "metadata": {
    "collapsed": false
   },
   "outputs": [
    {
     "name": "stdout",
     "output_type": "stream",
     "text": [
      "10 loops, best of 3: 50.9 ms per loop\n"
     ]
    }
   ],
   "source": [
    "%timeit a  = np.random.randn(200,3000)"
   ]
  },
  {
   "cell_type": "code",
   "execution_count": null,
   "metadata": {
    "collapsed": true
   },
   "outputs": [],
   "source": [
    "mA = np.random.randn"
   ]
  },
  {
   "cell_type": "markdown",
   "metadata": {},
   "source": [
    "## Operaciones básicas de los ndarray"
   ]
  },
  {
   "cell_type": "markdown",
   "metadata": {},
   "source": [
    "La mayoría de las operaciones que se pueden aplicar e los ndarray se encuenran en el espacio de nombres de np, y las cuales son bastante directas tal como:\n",
    "\n",
    "    b = np.sin(a)\n",
    "\n",
    "la cual devuelve en b un ndarray de las mismas dimensiones que a, cuyas entradas son el seno de las entradas de a (en radianes).\n",
    "Así, parece inecesario explicar las funciones cos, tan, tanh, acos, asin, etc..\n",
    "\n",
    "Otras funciones muy útiles no son tan directas. Veamos algunas:\n",
    "\n",
    "    c = a + b\n",
    "\n",
    "es la suma de dos ndarray, bastante obvio, lo que no lo es tanto es:\n",
    "\n",
    "    c = a * b\n",
    "\n",
    "la cual es un ndarray resultante de la *multiplicación punto a punto* de los elementos de a y b, asumiendo que ambos tienen\n",
    "las mismas diensiones. ¿Y para aplicar un producto matricial? Pues se utiliza el comando dot (o producto punto) el cual puede ser\n",
    "expresado de dos formas:\n",
    "\n",
    "    c = np.dot(a, b)\n",
    "    c = a.dot(b)\n",
    "\n",
    "La suma de los elementos de un ndarray tambien es un método del objeto (como min, max, argmin, argmax, etc...)\n",
    "\n",
    "    b = a.sum()\n",
    "\n",
    "es la suma de *todos los elementos del array* mientras que\n",
    "\n",
    "    b = a.sum(axis=0) \n",
    "\n",
    "es un ndarray con una dimensión menos que a, con la suma de las columnas. Veamos unos ejemplos:"
   ]
  },
  {
   "cell_type": "code",
   "execution_count": 64,
   "metadata": {
    "collapsed": false
   },
   "outputs": [
    {
     "name": "stdout",
     "output_type": "stream",
     "text": [
      "a = \n",
      "[[1 2 3]\n",
      " [4 5 6]]\n",
      "b = \n",
      "[[ 0.0945584   0.89932095  0.43955689]\n",
      " [ 0.62393466  0.80572099  0.79834328]]\n",
      "Suma de todos los números de b\n",
      "3.66143517127\n",
      "Media de cada columna de a\n",
      "[ 2.5  3.5  4.5]\n",
      "Transpuesta de a, forma larga\n",
      "[[1 4]\n",
      " [2 5]\n",
      " [3 6]]\n",
      "Transpuesta de a, forma preferida\n",
      "[[1 4]\n",
      " [2 5]\n",
      " [3 6]]\n",
      "10 * b = \n",
      "[[ 0.94558399  8.99320949  4.39556888]\n",
      " [ 6.2393466   8.05720995  7.98343281]]\n",
      "a * b =\n",
      "[[ 0.0945584   1.7986419   1.31867066]\n",
      " [ 2.49573864  4.02860497  4.79005969]]\n",
      "2 elevado a la matriz a\n",
      "[[ 2  4  8]\n",
      " [16 32 64]]\n",
      "a elevada al cuadrado (elemento a elemento)\n",
      "[[ 1  4  9]\n",
      " [16 25 36]]\n",
      "a.dot(b.T) = \n",
      "[[  3.21187096   4.63040649]\n",
      " [  7.51217967  11.3144033 ]]\n",
      "a.dot(b) debería dar error\n"
     ]
    },
    {
     "ename": "ValueError",
     "evalue": "shapes (2,3) and (2,3) not aligned: 3 (dim 1) != 2 (dim 0)",
     "output_type": "error",
     "traceback": [
      "\u001b[1;31m---------------------------------------------------------------------------\u001b[0m",
      "\u001b[1;31mValueError\u001b[0m                                Traceback (most recent call last)",
      "\u001b[1;32m<ipython-input-64-88b3a09713e8>\u001b[0m in \u001b[0;36m<module>\u001b[1;34m()\u001b[0m\n\u001b[0;32m     37\u001b[0m \u001b[1;33m\u001b[0m\u001b[0m\n\u001b[0;32m     38\u001b[0m \u001b[0mprint\u001b[0m \u001b[1;33m(\u001b[0m\u001b[1;34m\"a.dot(b) debería dar error\"\u001b[0m\u001b[1;33m)\u001b[0m\u001b[1;33m\u001b[0m\u001b[0m\n\u001b[1;32m---> 39\u001b[1;33m \u001b[0mprint\u001b[0m \u001b[1;33m(\u001b[0m\u001b[0ma\u001b[0m\u001b[1;33m.\u001b[0m\u001b[0mdot\u001b[0m\u001b[1;33m(\u001b[0m\u001b[0mb\u001b[0m\u001b[1;33m)\u001b[0m\u001b[1;33m)\u001b[0m\u001b[1;33m\u001b[0m\u001b[0m\n\u001b[0m",
      "\u001b[1;31mValueError\u001b[0m: shapes (2,3) and (2,3) not aligned: 3 (dim 1) != 2 (dim 0)"
     ]
    }
   ],
   "source": [
    "# Vamos a generar varios ndarrays\n",
    "a = np.array([[1, 2, 3], [4, 5, 6]])\n",
    "b = np.random.rand(2, 3)\n",
    "\n",
    "print (\"a = \")\n",
    "print (a)\n",
    "\n",
    "print (\"b = \")\n",
    "print (b)\n",
    "\n",
    "print (\"Suma de todos los números de b\")\n",
    "print (b.sum())\n",
    "\n",
    "print (\"Media de cada columna de a\")\n",
    "print (a.mean(axis=0))\n",
    "\n",
    "print (\"Transpuesta de a, forma larga\")\n",
    "print (a.transpose())\n",
    "\n",
    "print (\"Transpuesta de a, forma preferida\")\n",
    "print (a.T)\n",
    "\n",
    "print (\"10 * b = \")\n",
    "print (10 * b)\n",
    "\n",
    "print (\"a * b =\")\n",
    "print (a * b)\n",
    "\n",
    "print (\"2 elevado a la matriz a\")\n",
    "print (np.power(2, a))\n",
    "\n",
    "print (\"a elevada al cuadrado (elemento a elemento)\")\n",
    "print (a**2)\n",
    "\n",
    "print (\"a.dot(b.T) = \")\n",
    "print (a.dot(b.T))\n",
    "\n",
    "print (\"a.dot(b) debería dar error\")\n",
    "print (a.dot(b))"
   ]
  },
  {
   "cell_type": "markdown",
   "metadata": {},
   "source": [
    "Como vemos tenemos aqui una bateria completa de funciones, las cuales se aplican en un ndarray. ¿Pero que información tengo de un ndarray? ¿Como puedo componer un ndarray a partir de otros? \n",
    "\n",
    "Un ndarray, una vez definido, utiliza una sintaxis muy parecida a la de Matlab para poder tomar partes de el. Asumamos por ejemplo un ndarray de una dimensión:"
   ]
  },
  {
   "cell_type": "code",
   "execution_count": 85,
   "metadata": {
    "collapsed": false
   },
   "outputs": [
    {
     "name": "stdout",
     "output_type": "stream",
     "text": [
      "[[1 6 4 4 7]\n",
      " [5 2 6 7 6]\n",
      " [8 1 9 9 3]\n",
      " [5 9 1 3 5]\n",
      " [4 3 2 5 3]]\n"
     ]
    },
    {
     "data": {
      "text/plain": [
       "array([[5, 9, 1, 3, 5],\n",
       "       [8, 1, 9, 9, 3]])"
      ]
     },
     "execution_count": 85,
     "metadata": {},
     "output_type": "execute_result"
    }
   ],
   "source": [
    "a = np.random.randint(1,10,(5,5))\n",
    "print(a)\n",
    "a[3:1:-1,:]\n"
   ]
  },
  {
   "cell_type": "code",
   "execution_count": 86,
   "metadata": {
    "collapsed": false
   },
   "outputs": [
    {
     "name": "stdout",
     "output_type": "stream",
     "text": [
      "El número de dimensiones de a es:  1\n",
      "Y su forma es  (100,)\n",
      "Y tiene  100  elementos\n"
     ]
    }
   ],
   "source": [
    "#Generamos el ndarray\n",
    "a = np.arange(100)\n",
    "\n",
    "# Chacamos algunas propiedades\n",
    "print (\"El número de dimensiones de a es: \", a.ndim)\n",
    "print (\"Y su forma es \", a.shape)\n",
    "print (\"Y tiene \", a.size, \" elementos\")\n",
    "\n",
    "#Generamos algunos ndarrays a partir de a\n",
    "b, c = a[:20], a[20:]\n",
    "d, e = a[-1:-10:-1], a[10:11]\n",
    "f = a[::-1]\n",
    "g = a[a % 5 == 0]\n",
    "h = f[[1, 15, 60]]\n",
    "\n",
    "# Ahora trata de inferir que es lo que debe contener cada array b, c, d, e, f, g, h sin hacer ninguna prueba.\n",
    "\n",
    "# Agrega ahora los print que consideres necesarios para verificar que valores tiene b, c, d, e, f, g, h "
   ]
  },
  {
   "cell_type": "markdown",
   "metadata": {},
   "source": [
    "A partir de una matriz (un ndarray de dos dimensiones) se pueden ejemplificar otras cosas, por ejemplo:"
   ]
  },
  {
   "cell_type": "code",
   "execution_count": 87,
   "metadata": {
    "collapsed": false
   },
   "outputs": [
    {
     "name": "stdout",
     "output_type": "stream",
     "text": [
      "b queda como: \n",
      "[[  0.00000000e+00   6.34239197e-02   1.26592454e-01   1.89251244e-01\n",
      "    2.51147987e-01   3.12033446e-01   3.71662456e-01   4.29794912e-01\n",
      "    4.86196736e-01   5.40640817e-01]\n",
      " [  5.92907929e-01   6.42787610e-01   6.90079011e-01   7.34591709e-01\n",
      "    7.76146464e-01   8.14575952e-01   8.49725430e-01   8.81453363e-01\n",
      "    9.09631995e-01   9.34147860e-01]\n",
      " [  9.54902241e-01   9.71811568e-01   9.84807753e-01   9.93838464e-01\n",
      "    9.98867339e-01   9.99874128e-01   9.96854776e-01   9.89821442e-01\n",
      "    9.78802446e-01   9.63842159e-01]\n",
      " [  9.45000819e-01   9.22354294e-01   8.95993774e-01   8.66025404e-01\n",
      "    8.32569855e-01   7.95761841e-01   7.55749574e-01   7.12694171e-01\n",
      "    6.66769001e-01   6.18158986e-01]\n",
      " [  5.67059864e-01   5.13677392e-01   4.58226522e-01   4.00930535e-01\n",
      "    3.42020143e-01   2.81732557e-01   2.20310533e-01   1.58001396e-01\n",
      "    9.50560433e-02   3.17279335e-02]\n",
      " [ -3.17279335e-02  -9.50560433e-02  -1.58001396e-01  -2.20310533e-01\n",
      "   -2.81732557e-01  -3.42020143e-01  -4.00930535e-01  -4.58226522e-01\n",
      "   -5.13677392e-01  -5.67059864e-01]\n",
      " [ -6.18158986e-01  -6.66769001e-01  -7.12694171e-01  -7.55749574e-01\n",
      "   -7.95761841e-01  -8.32569855e-01  -8.66025404e-01  -8.95993774e-01\n",
      "   -9.22354294e-01  -9.45000819e-01]\n",
      " [ -9.63842159e-01  -9.78802446e-01  -9.89821442e-01  -9.96854776e-01\n",
      "   -9.99874128e-01  -9.98867339e-01  -9.93838464e-01  -9.84807753e-01\n",
      "   -9.71811568e-01  -9.54902241e-01]\n",
      " [ -9.34147860e-01  -9.09631995e-01  -8.81453363e-01  -8.49725430e-01\n",
      "   -8.14575952e-01  -7.76146464e-01  -7.34591709e-01  -6.90079011e-01\n",
      "   -6.42787610e-01  -5.92907929e-01]\n",
      " [ -5.40640817e-01  -4.86196736e-01  -4.29794912e-01  -3.71662456e-01\n",
      "   -3.12033446e-01  -2.51147987e-01  -1.89251244e-01  -1.26592454e-01\n",
      "   -6.34239197e-02  -2.44929360e-16]]\n",
      "donde b tiene  2  dimensiones, con una forma  (10, 10) y con  100  elementos.\n"
     ]
    }
   ],
   "source": [
    "#Generamos un arreglo con 100 valores equiespaciados del seno desde 0 a 2$\\pi$\n",
    "a = np.sin(np.linspace(0, 2 * np.pi, 100))\n",
    "\n",
    "#Lo convertimos en una patriz de 10 por (lo que sea), que lo que sea es 10 en este caso, seguro\n",
    "b = a.reshape((10, -1))\n",
    "print (\"b queda como: \")\n",
    "print (b)\n",
    "print (\"donde b tiene \", b.ndim, \" dimensiones, con una forma \", b.shape, \"y con \", b.size, \" elementos.\")"
   ]
  },
  {
   "cell_type": "code",
   "execution_count": 89,
   "metadata": {
    "collapsed": false
   },
   "outputs": [
    {
     "name": "stdout",
     "output_type": "stream",
     "text": [
      "La diferencia de a y c sería\n",
      "0.0\n"
     ]
    }
   ],
   "source": [
    "#Si queremos convertir un ndarray a un array de una sola dimension \n",
    "c = b.flatten()\n",
    "\n",
    "print (\"La diferencia de a y c sería\")\n",
    "print ((a - c).sum())"
   ]
  },
  {
   "cell_type": "code",
   "execution_count": null,
   "metadata": {
    "collapsed": false
   },
   "outputs": [],
   "source": [
    "# Si queremos hacer que un vector se comporte como un vector fila\n",
    "a = np.arange(30).reshape(1,-1)\n",
    "print (\"a es de forma \", a.shape)\n",
    "\n",
    "# Y si queremos que sea un vector columna hacemos esto\n",
    "b = np.linspace(30, 35, 30).reshape(-1,1)\n",
    "print (\"b es de forma \", b.shape)\n",
    "\n",
    "# Y para hacer una concatenacion de columnas entonces utilizamps la forma especial np.c[]\n",
    "c = np.c_[a.T, b]\n",
    "print( \"c es de forma \", c.shape)\n",
    "\n",
    "#Y una concatenación de renglones es por lo tanto\n",
    "d = np.r_[a, b.T]\n",
    "print( \"d es de forma \", d.shape)"
   ]
  },
  {
   "cell_type": "markdown",
   "metadata": {},
   "source": [
    "### Segundo problema a resolver (30 puntos)"
   ]
  },
  {
   "cell_type": "markdown",
   "metadata": {},
   "source": [
    "Realiza lo siguiente:\n",
    "\n",
    "* Genera una matriz de 100 por 5 de forma que en cada columna tengamos lo siguiente:\n",
    "    \n",
    "    - En la primer columna los valores entre -1 y 1, equiespaciados\n",
    "    - En la segunda columna el valor de seno para los valores de la primer columna\n",
    "    - En la tercer columna el valor de la función logística de los valores de la primer columna, la cual es $g(x) = \\frac{1}{1 + \\exp(-x)}$\n",
    "    - En la cuarta columna 1 si el valor de $\\sin(x) > 0$ y -1 en otro caso, donde $x$ son los valores de la primer columna (revisa la función np.where)\n",
    "    - En la quinta columna valores aleatorios de acuerdo a una distribución gaussiana con media 1 y varianza 0.5\n",
    "        \n",
    "* Encuentra un arreglo con todos los valores de la función logística, cuando el valor absoluto del seno de x es menor a 0.5\n",
    "    \n",
    "* Convierte este arraglo en una matriz con 5 columnas y los renglones que sean necesarios.\n",
    "        "
   ]
  },
  {
   "cell_type": "markdown",
   "metadata": {},
   "source": [
    "Además de estas funciones, numpy cuenta con funciones del algebra lineal altamente optimizadas (aunque no paralelizadas), las cuales son (entre otras):\n",
    "\n",
    "* `np.linalg.inv(a)`: Inversa de a\n",
    "* `np.linalg.pinv(a)`: Pseudoinversa de Ross-Penrose de a (muy útil para nosotros)\n",
    "* `np.linalg.det(a)`: determinante de a\n",
    "* `np.linalg.eig(a)`: eigenvalores y eigenvectores de a\n",
    "* `np.linalg.svd(a)`: Valores singulares de a"
   ]
  },
  {
   "cell_type": "code",
   "execution_count": null,
   "metadata": {
    "collapsed": true
   },
   "outputs": [],
   "source": [
    "# Espacio para realizar el problema"
   ]
  },
  {
   "cell_type": "markdown",
   "metadata": {},
   "source": [
    "## Haciendo gráficas sencillas con Matplotlib"
   ]
  },
  {
   "cell_type": "markdown",
   "metadata": {},
   "source": [
    "**Matplotlib** es la librería que provee scipy para realizar representación gráfica en 2D y 3D de numerosas variables que vamos a utilizar a lo largo de esta asignatura.\n",
    "\n",
    "La mejor manera de mostrar como funcionan las facilidades que ofrece matplotlib, es mostrando directamente su uso más sencillo, así que veamos un ejemplo muy simple. Es importante recordar que en la primer celda de esta libreta se definió la manera de realizar las gráficas (dentro del documento y no como figuras aparte), así como se cargo matplotlib en el espacio de nombres plt."
   ]
  },
  {
   "cell_type": "code",
   "execution_count": 90,
   "metadata": {
    "collapsed": false
   },
   "outputs": [
    {
     "data": {
      "text/plain": [
       "[-3.1416, 3.1416, -1.1, 1.1]"
      ]
     },
     "execution_count": 90,
     "metadata": {},
     "output_type": "execute_result"
    },
    {
     "data": {
      "image/png": "[encoded data removed]",
      "text/plain": [
       "<matplotlib.figure.Figure at 0xaac07bcc>"
      ]
     },
     "metadata": {},
     "output_type": "display_data"
    }
   ],
   "source": [
    "# Vamos a hacerlo pasito a pasito\n",
    "\n",
    "# Primero obtenemos un vector x\n",
    "x = np.linspace(-np.pi, np.pi, 1000)\n",
    "\n",
    "# Luego obtenemos un vector y bastante trivial\n",
    "y = np.sin(x)\n",
    "\n",
    "# Y ahora hacemos una gráfica básica de x y y\n",
    "plt.plot(x, y)\n",
    "plt.xlabel(\"el eje de las x's\")\n",
    "plt.ylabel(\"el eje de las y's\")\n",
    "plt.title(\"Este es un plot normalito\")\n",
    "\n",
    "# Bueno como la gráfica no esta muy bien a lo mejor se ve mejor si modificamos los limites de los ejes\n",
    "plt.axis([-3.1416, 3.1416, -1.1, 1.1])"
   ]
  },
  {
   "cell_type": "markdown",
   "metadata": {},
   "source": [
    "Ahora hagamos una gráfica con varios valores diferentes"
   ]
  },
  {
   "cell_type": "code",
   "execution_count": 91,
   "metadata": {
    "collapsed": false
   },
   "outputs": [
    {
     "data": {
      "text/plain": [
       "<matplotlib.legend.Legend at 0xaabe18ec>"
      ]
     },
     "execution_count": 91,
     "metadata": {},
     "output_type": "execute_result"
    },
    {
     "data": {
      "image/png": "[encoded data removed]",
      "text/plain": [
       "<matplotlib.figure.Figure at 0xaabc10ec>"
      ]
     },
     "metadata": {},
     "output_type": "display_data"
    }
   ],
   "source": [
    "plt.plot(x, np.sin(x), label='seno')\n",
    "\n",
    "plt.plot(x, 1/(1 + np.exp(-x)), label=u\"logística\")\n",
    "\n",
    "plt.plot(x, (0.2 * x * x) - 0.5, label=r'$0.2 x^2 - 0.5$')\n",
    "\n",
    "plt.axis([-3.1416, 3.1416, -1.1, 1.4])\n",
    "\n",
    "plt.title(\"Tres funciones trigonométricas juntas\")\n",
    "plt.xlabel(r\"$\\theta$ (rad)\")\n",
    "plt.ylabel(\"magnitud\")\n",
    "\n",
    "plt.legend(loc=0)"
   ]
  },
  {
   "cell_type": "markdown",
   "metadata": {},
   "source": [
    "Creemos ahora una figura en la que se representan los valores de un vector, y definimos el espacio que queremos ver con `plt.axis()`:"
   ]
  },
  {
   "cell_type": "code",
   "execution_count": 92,
   "metadata": {
    "collapsed": false
   },
   "outputs": [
    {
     "data": {
      "text/plain": [
       "[-1, 3, 0, 2]"
      ]
     },
     "execution_count": 92,
     "metadata": {},
     "output_type": "execute_result"
    },
    {
     "data": {
      "image/png": "[encoded data removed]",
      "text/plain": [
       "<matplotlib.figure.Figure at 0xaaca626c>"
      ]
     },
     "metadata": {},
     "output_type": "display_data"
    }
   ],
   "source": [
    "val_x = np.array([0, 1, 2])\n",
    "val_y = np.array([0, 1, 1])\n",
    "plt.plot(val_x,val_y)\n",
    "plt.axis([-1, 3, 0, 2])"
   ]
  },
  {
   "cell_type": "markdown",
   "metadata": {},
   "source": [
    "Hay muchos tipos de funciones, lo mejor para saber como ustilizar matplotlib es ver la galeria de ejemplo que se encuentran en la ayuda,\n",
    "y pueden consultarse en http://matplotlib.org/gallery.html (al darle click a una imagen se puede ver el código que la genera).\n",
    "\n",
    "Por ejemplo si queremos una gráfica tipo tarta:"
   ]
  },
  {
   "cell_type": "code",
   "execution_count": 93,
   "metadata": {
    "collapsed": false
   },
   "outputs": [
    {
     "data": {
      "text/plain": [
       "<matplotlib.text.Text at 0xaac0ce8c>"
      ]
     },
     "execution_count": 93,
     "metadata": {},
     "output_type": "execute_result"
    },
    {
     "data": {
      "image/png": "[encoded data removed]",
      "text/plain": [
       "<matplotlib.figure.Figure at 0xaaafdbcc>"
      ]
     },
     "metadata": {},
     "output_type": "display_data"
    }
   ],
   "source": [
    "labels = 'Tortas', 'Taquitos', 'Burritos', 'Ensaladas'\n",
    "porcentajes = [15, 30, 45, 10]\n",
    "colores = ['yellowgreen', 'gold', 'lightskyblue', 'lightcoral']\n",
    "separa = (0, 0.1, 0, 0) # solo separa la segunda rebanada (i.e. 'Taquitos')\n",
    "\n",
    "plt.pie(porcentajes, explode=separa, labels=labels, colors=colores, autopct='%1.1f%%', shadow=True, startangle=90)\n",
    "plt.axis('equal') #Para que el pay se vea como un círculo\n",
    "plt.xlabel(u'Comida sana')\n"
   ]
  },
  {
   "cell_type": "markdown",
   "metadata": {},
   "source": [
    "O si queremos una gráfica tipo contorno con todo y datos"
   ]
  },
  {
   "cell_type": "code",
   "execution_count": 94,
   "metadata": {
    "collapsed": false
   },
   "outputs": [
    {
     "name": "stderr",
     "output_type": "stream",
     "text": [
      "/usr/bin/anaconda3/lib/python3.4/site-packages/matplotlib/tri/triangulation.py:110: FutureWarning: comparison to `None` will result in an elementwise object comparison in the future.\n",
      "  self._neighbors)\n"
     ]
    },
    {
     "ename": "ValueError",
     "evalue": "Colormap inferno is not recognized. Possible values are: cubehelix, pink_r, GnBu, Purples_r, Oranges, Blues, RdPu, YlOrRd, coolwarm_r, Pastel1_r, Dark2_r, gist_gray, Set2_r, GnBu_r, PuRd, BuGn, Accent, RdYlBu, gray_r, seismic, CMRmap_r, OrRd_r, Spectral, gist_earth, OrRd, PRGn, cool, afmhot_r, jet, Set2, afmhot, gnuplot_r, winter_r, PRGn_r, YlGn_r, PiYG, hot, winter, rainbow, YlOrBr, spring_r, gist_yarg_r, seismic_r, pink, RdBu_r, YlOrBr_r, YlGn, Set1, jet_r, cool_r, summer_r, BuPu_r, hot_r, bwr_r, spectral_r, BrBG, Set3, bone_r, Greys, summer, nipy_spectral_r, binary_r, gnuplot2, Pastel1, prism_r, rainbow_r, Paired, PuOr, PuBu_r, coolwarm, gist_ncar_r, Pastel2, PiYG_r, Oranges_r, CMRmap, gist_heat_r, gist_yarg, gist_earth_r, Set3_r, Dark2, gist_rainbow, Reds, copper, flag, Pastel2_r, gist_rainbow_r, gist_heat, gist_stern, BuGn_r, BrBG_r, YlGnBu, Greys_r, Accent_r, autumn, Reds_r, gnuplot2_r, cubehelix_r, spring, Greens, autumn_r, hsv, RdBu, PuBuGn_r, gist_gray_r, gnuplot, gist_stern_r, ocean, ocean_r, Greens_r, spectral, terrain_r, RdYlGn_r, binary, bwr, PuRd_r, gray, nipy_spectral, PuBuGn, hsv_r, Blues_r, Wistia, RdGy, RdYlBu_r, PuOr_r, Purples, bone, Wistia_r, brg_r, RdGy_r, RdPu_r, flag_r, YlOrRd_r, terrain, prism, gist_ncar, YlGnBu_r, brg, RdYlGn, copper_r, PuBu, Spectral_r, Paired_r, Set1_r, BuPu",
     "output_type": "error",
     "traceback": [
      "\u001b[1;31m---------------------------------------------------------------------------\u001b[0m",
      "\u001b[1;31mValueError\u001b[0m                                Traceback (most recent call last)",
      "\u001b[1;32m<ipython-input-94-6eca138de59f>\u001b[0m in \u001b[0;36m<module>\u001b[1;34m()\u001b[0m\n\u001b[0;32m     20\u001b[0m \u001b[1;33m\u001b[0m\u001b[0m\n\u001b[0;32m     21\u001b[0m \u001b[1;31m# Para hacerlo mas acá pues se puede agregar color a cada nivel y agregarle una barra de nivel de color\u001b[0m\u001b[1;33m\u001b[0m\u001b[1;33m\u001b[0m\u001b[0m\n\u001b[1;32m---> 22\u001b[1;33m \u001b[0mplt\u001b[0m\u001b[1;33m.\u001b[0m\u001b[0mcontourf\u001b[0m\u001b[1;33m(\u001b[0m\u001b[0mxi\u001b[0m\u001b[1;33m,\u001b[0m \u001b[0myi\u001b[0m\u001b[1;33m,\u001b[0m \u001b[0mzi\u001b[0m\u001b[1;33m,\u001b[0m \u001b[1;36m15\u001b[0m\u001b[1;33m,\u001b[0m \u001b[0mcmap\u001b[0m\u001b[1;33m=\u001b[0m\u001b[1;34m'inferno'\u001b[0m\u001b[1;33m,\u001b[0m \u001b[0mvmax\u001b[0m\u001b[1;33m=\u001b[0m\u001b[0mabs\u001b[0m\u001b[1;33m(\u001b[0m\u001b[0mzi\u001b[0m\u001b[1;33m)\u001b[0m\u001b[1;33m.\u001b[0m\u001b[0mmax\u001b[0m\u001b[1;33m(\u001b[0m\u001b[1;33m)\u001b[0m\u001b[1;33m,\u001b[0m \u001b[0mvmin\u001b[0m\u001b[1;33m=\u001b[0m\u001b[1;33m-\u001b[0m\u001b[0mabs\u001b[0m\u001b[1;33m(\u001b[0m\u001b[0mzi\u001b[0m\u001b[1;33m)\u001b[0m\u001b[1;33m.\u001b[0m\u001b[0mmax\u001b[0m\u001b[1;33m(\u001b[0m\u001b[1;33m)\u001b[0m\u001b[1;33m)\u001b[0m\u001b[1;33m\u001b[0m\u001b[0m\n\u001b[0m\u001b[0;32m     23\u001b[0m \u001b[0mplt\u001b[0m\u001b[1;33m.\u001b[0m\u001b[0mcolorbar\u001b[0m\u001b[1;33m(\u001b[0m\u001b[1;33m)\u001b[0m \u001b[1;31m# draw colorbar\u001b[0m\u001b[1;33m\u001b[0m\u001b[0m\n\u001b[0;32m     24\u001b[0m \u001b[1;33m\u001b[0m\u001b[0m\n",
      "\u001b[1;32m/usr/bin/anaconda3/lib/python3.4/site-packages/matplotlib/pyplot.py\u001b[0m in \u001b[0;36mcontourf\u001b[1;34m(*args, **kwargs)\u001b[0m\n\u001b[0;32m   2716\u001b[0m         \u001b[0max\u001b[0m\u001b[1;33m.\u001b[0m\u001b[0mhold\u001b[0m\u001b[1;33m(\u001b[0m\u001b[0mhold\u001b[0m\u001b[1;33m)\u001b[0m\u001b[1;33m\u001b[0m\u001b[0m\n\u001b[0;32m   2717\u001b[0m     \u001b[1;32mtry\u001b[0m\u001b[1;33m:\u001b[0m\u001b[1;33m\u001b[0m\u001b[0m\n\u001b[1;32m-> 2718\u001b[1;33m         \u001b[0mret\u001b[0m \u001b[1;33m=\u001b[0m \u001b[0max\u001b[0m\u001b[1;33m.\u001b[0m\u001b[0mcontourf\u001b[0m\u001b[1;33m(\u001b[0m\u001b[1;33m*\u001b[0m\u001b[0margs\u001b[0m\u001b[1;33m,\u001b[0m \u001b[1;33m**\u001b[0m\u001b[0mkwargs\u001b[0m\u001b[1;33m)\u001b[0m\u001b[1;33m\u001b[0m\u001b[0m\n\u001b[0m\u001b[0;32m   2719\u001b[0m         \u001b[0mdraw_if_interactive\u001b[0m\u001b[1;33m(\u001b[0m\u001b[1;33m)\u001b[0m\u001b[1;33m\u001b[0m\u001b[0m\n\u001b[0;32m   2720\u001b[0m     \u001b[1;32mfinally\u001b[0m\u001b[1;33m:\u001b[0m\u001b[1;33m\u001b[0m\u001b[0m\n",
      "\u001b[1;32m/usr/bin/anaconda3/lib/python3.4/site-packages/matplotlib/axes/_axes.py\u001b[0m in \u001b[0;36mcontourf\u001b[1;34m(self, *args, **kwargs)\u001b[0m\n\u001b[0;32m   5338\u001b[0m             \u001b[0mself\u001b[0m\u001b[1;33m.\u001b[0m\u001b[0mcla\u001b[0m\u001b[1;33m(\u001b[0m\u001b[1;33m)\u001b[0m\u001b[1;33m\u001b[0m\u001b[0m\n\u001b[0;32m   5339\u001b[0m         \u001b[0mkwargs\u001b[0m\u001b[1;33m[\u001b[0m\u001b[1;34m'filled'\u001b[0m\u001b[1;33m]\u001b[0m \u001b[1;33m=\u001b[0m \u001b[1;32mTrue\u001b[0m\u001b[1;33m\u001b[0m\u001b[0m\n\u001b[1;32m-> 5340\u001b[1;33m         \u001b[1;32mreturn\u001b[0m \u001b[0mmcontour\u001b[0m\u001b[1;33m.\u001b[0m\u001b[0mQuadContourSet\u001b[0m\u001b[1;33m(\u001b[0m\u001b[0mself\u001b[0m\u001b[1;33m,\u001b[0m \u001b[1;33m*\u001b[0m\u001b[0margs\u001b[0m\u001b[1;33m,\u001b[0m \u001b[1;33m**\u001b[0m\u001b[0mkwargs\u001b[0m\u001b[1;33m)\u001b[0m\u001b[1;33m\u001b[0m\u001b[0m\n\u001b[0m\u001b[0;32m   5341\u001b[0m     \u001b[0mcontourf\u001b[0m\u001b[1;33m.\u001b[0m\u001b[0m__doc__\u001b[0m \u001b[1;33m=\u001b[0m \u001b[0mmcontour\u001b[0m\u001b[1;33m.\u001b[0m\u001b[0mQuadContourSet\u001b[0m\u001b[1;33m.\u001b[0m\u001b[0mcontour_doc\u001b[0m\u001b[1;33m\u001b[0m\u001b[0m\n\u001b[0;32m   5342\u001b[0m \u001b[1;33m\u001b[0m\u001b[0m\n",
      "\u001b[1;32m/usr/bin/anaconda3/lib/python3.4/site-packages/matplotlib/contour.py\u001b[0m in \u001b[0;36m__init__\u001b[1;34m(self, ax, *args, **kwargs)\u001b[0m\n\u001b[0;32m   1427\u001b[0m         \u001b[0mare\u001b[0m \u001b[0mdescribed\u001b[0m \u001b[1;32min\u001b[0m \u001b[0mQuadContourSet\u001b[0m\u001b[1;33m.\u001b[0m\u001b[0mcontour_doc\u001b[0m\u001b[1;33m.\u001b[0m\u001b[1;33m\u001b[0m\u001b[0m\n\u001b[0;32m   1428\u001b[0m         \"\"\"\n\u001b[1;32m-> 1429\u001b[1;33m         \u001b[0mContourSet\u001b[0m\u001b[1;33m.\u001b[0m\u001b[0m__init__\u001b[0m\u001b[1;33m(\u001b[0m\u001b[0mself\u001b[0m\u001b[1;33m,\u001b[0m \u001b[0max\u001b[0m\u001b[1;33m,\u001b[0m \u001b[1;33m*\u001b[0m\u001b[0margs\u001b[0m\u001b[1;33m,\u001b[0m \u001b[1;33m**\u001b[0m\u001b[0mkwargs\u001b[0m\u001b[1;33m)\u001b[0m\u001b[1;33m\u001b[0m\u001b[0m\n\u001b[0m\u001b[0;32m   1430\u001b[0m \u001b[1;33m\u001b[0m\u001b[0m\n\u001b[0;32m   1431\u001b[0m     \u001b[1;32mdef\u001b[0m \u001b[0m_process_args\u001b[0m\u001b[1;33m(\u001b[0m\u001b[0mself\u001b[0m\u001b[1;33m,\u001b[0m \u001b[1;33m*\u001b[0m\u001b[0margs\u001b[0m\u001b[1;33m,\u001b[0m \u001b[1;33m**\u001b[0m\u001b[0mkwargs\u001b[0m\u001b[1;33m)\u001b[0m\u001b[1;33m:\u001b[0m\u001b[1;33m\u001b[0m\u001b[0m\n",
      "\u001b[1;32m/usr/bin/anaconda3/lib/python3.4/site-packages/matplotlib/contour.py\u001b[0m in \u001b[0;36m__init__\u001b[1;34m(self, ax, *args, **kwargs)\u001b[0m\n\u001b[0;32m    918\u001b[0m             \u001b[0mkw\u001b[0m\u001b[1;33m[\u001b[0m\u001b[1;34m'norm'\u001b[0m\u001b[1;33m]\u001b[0m \u001b[1;33m=\u001b[0m \u001b[0mnorm\u001b[0m\u001b[1;33m\u001b[0m\u001b[0m\n\u001b[0;32m    919\u001b[0m         \u001b[1;31m# sets self.cmap, norm if needed;\u001b[0m\u001b[1;33m\u001b[0m\u001b[1;33m\u001b[0m\u001b[0m\n\u001b[1;32m--> 920\u001b[1;33m         \u001b[0mcm\u001b[0m\u001b[1;33m.\u001b[0m\u001b[0mScalarMappable\u001b[0m\u001b[1;33m.\u001b[0m\u001b[0m__init__\u001b[0m\u001b[1;33m(\u001b[0m\u001b[0mself\u001b[0m\u001b[1;33m,\u001b[0m \u001b[1;33m**\u001b[0m\u001b[0mkw\u001b[0m\u001b[1;33m)\u001b[0m\u001b[1;33m\u001b[0m\u001b[0m\n\u001b[0m\u001b[0;32m    921\u001b[0m         \u001b[1;32mif\u001b[0m \u001b[0mvmin\u001b[0m \u001b[1;32mis\u001b[0m \u001b[1;32mnot\u001b[0m \u001b[1;32mNone\u001b[0m\u001b[1;33m:\u001b[0m\u001b[1;33m\u001b[0m\u001b[0m\n\u001b[0;32m    922\u001b[0m             \u001b[0mself\u001b[0m\u001b[1;33m.\u001b[0m\u001b[0mnorm\u001b[0m\u001b[1;33m.\u001b[0m\u001b[0mvmin\u001b[0m \u001b[1;33m=\u001b[0m \u001b[0mvmin\u001b[0m\u001b[1;33m\u001b[0m\u001b[0m\n",
      "\u001b[1;32m/usr/bin/anaconda3/lib/python3.4/site-packages/matplotlib/cm.py\u001b[0m in \u001b[0;36m__init__\u001b[1;34m(self, norm, cmap)\u001b[0m\n\u001b[0;32m    195\u001b[0m         \u001b[0mself\u001b[0m\u001b[1;33m.\u001b[0m\u001b[0mnorm\u001b[0m \u001b[1;33m=\u001b[0m \u001b[0mnorm\u001b[0m\u001b[1;33m\u001b[0m\u001b[0m\n\u001b[0;32m    196\u001b[0m         \u001b[1;31m#: The Colormap instance of this ScalarMappable.\u001b[0m\u001b[1;33m\u001b[0m\u001b[1;33m\u001b[0m\u001b[0m\n\u001b[1;32m--> 197\u001b[1;33m         \u001b[0mself\u001b[0m\u001b[1;33m.\u001b[0m\u001b[0mcmap\u001b[0m \u001b[1;33m=\u001b[0m \u001b[0mget_cmap\u001b[0m\u001b[1;33m(\u001b[0m\u001b[0mcmap\u001b[0m\u001b[1;33m)\u001b[0m\u001b[1;33m\u001b[0m\u001b[0m\n\u001b[0m\u001b[0;32m    198\u001b[0m         \u001b[1;31m#: The last colorbar associated with this ScalarMappable. May be None.\u001b[0m\u001b[1;33m\u001b[0m\u001b[1;33m\u001b[0m\u001b[0m\n\u001b[0;32m    199\u001b[0m         \u001b[0mself\u001b[0m\u001b[1;33m.\u001b[0m\u001b[0mcolorbar\u001b[0m \u001b[1;33m=\u001b[0m \u001b[1;32mNone\u001b[0m\u001b[1;33m\u001b[0m\u001b[0m\n",
      "\u001b[1;32m/usr/bin/anaconda3/lib/python3.4/site-packages/matplotlib/cm.py\u001b[0m in \u001b[0;36mget_cmap\u001b[1;34m(name, lut)\u001b[0m\n\u001b[0;32m    161\u001b[0m         raise ValueError(\n\u001b[0;32m    162\u001b[0m             \u001b[1;34m\"Colormap %s is not recognized. Possible values are: %s\"\u001b[0m\u001b[1;33m\u001b[0m\u001b[0m\n\u001b[1;32m--> 163\u001b[1;33m             % (name, ', '.join(cmap_d.keys())))\n\u001b[0m\u001b[0;32m    164\u001b[0m \u001b[1;33m\u001b[0m\u001b[0m\n\u001b[0;32m    165\u001b[0m \u001b[1;33m\u001b[0m\u001b[0m\n",
      "\u001b[1;31mValueError\u001b[0m: Colormap inferno is not recognized. Possible values are: cubehelix, pink_r, GnBu, Purples_r, Oranges, Blues, RdPu, YlOrRd, coolwarm_r, Pastel1_r, Dark2_r, gist_gray, Set2_r, GnBu_r, PuRd, BuGn, Accent, RdYlBu, gray_r, seismic, CMRmap_r, OrRd_r, Spectral, gist_earth, OrRd, PRGn, cool, afmhot_r, jet, Set2, afmhot, gnuplot_r, winter_r, PRGn_r, YlGn_r, PiYG, hot, winter, rainbow, YlOrBr, spring_r, gist_yarg_r, seismic_r, pink, RdBu_r, YlOrBr_r, YlGn, Set1, jet_r, cool_r, summer_r, BuPu_r, hot_r, bwr_r, spectral_r, BrBG, Set3, bone_r, Greys, summer, nipy_spectral_r, binary_r, gnuplot2, Pastel1, prism_r, rainbow_r, Paired, PuOr, PuBu_r, coolwarm, gist_ncar_r, Pastel2, PiYG_r, Oranges_r, CMRmap, gist_heat_r, gist_yarg, gist_earth_r, Set3_r, Dark2, gist_rainbow, Reds, copper, flag, Pastel2_r, gist_rainbow_r, gist_heat, gist_stern, BuGn_r, BrBG_r, YlGnBu, Greys_r, Accent_r, autumn, Reds_r, gnuplot2_r, cubehelix_r, spring, Greens, autumn_r, hsv, RdBu, PuBuGn_r, gist_gray_r, gnuplot, gist_stern_r, ocean, ocean_r, Greens_r, spectral, terrain_r, RdYlGn_r, binary, bwr, PuRd_r, gray, nipy_spectral, PuBuGn, hsv_r, Blues_r, Wistia, RdGy, RdYlBu_r, PuOr_r, Purples, bone, Wistia_r, brg_r, RdGy_r, RdPu_r, flag_r, YlOrRd_r, terrain, prism, gist_ncar, YlGnBu_r, brg, RdYlGn, copper_r, PuBu, Spectral_r, Paired_r, Set1_r, BuPu"
     ]
    },
    {
     "data": {
      "image/png": "[encoded data removed]",
      "text/plain": [
       "<matplotlib.figure.Figure at 0xaac0e36c>"
      ]
     },
     "metadata": {},
     "output_type": "display_data"
    }
   ],
   "source": [
    "# Genera datos en los ejes x y y de forma uniforme entre -2 y 2\n",
    "# prueba generando 2000 puntos (con y sin colores) pero para \n",
    "# 2000 puntos no vayas a dibujar los valores parque no se va a ver nada.\n",
    "x = np.random.uniform(-2, 2, 200)\n",
    "y = np.random.uniform(-2, 2, 200)\n",
    "\n",
    "# Genera los valores en z en cada punto generado, con la función siguiente\n",
    "z = x * np.exp(-x ** 2 - y ** 2)\n",
    "\n",
    "# define el grid donde se muestran los datos\n",
    "xi = np.linspace(-2.1, 2.1, 100)\n",
    "yi = np.linspace(-2.1, 2.1, 200)\n",
    "\n",
    "# Genera datos de z interpolados para tener mejor presición en el contorno\n",
    "from matplotlib.mlab import griddata\n",
    "zi = griddata(x, y, z, xi, yi, interp='linear')\n",
    "\n",
    "# Hace una gráfica de contorno con únicamente lineas de nivel.\n",
    "plt.contour(xi, yi, zi, 15, linewidths=0.5, colors='k')\n",
    "\n",
    "# Para hacerlo mas acá pues se puede agregar color a cada nivel y agregarle una barra de nivel de color\n",
    "plt.contourf(xi, yi, zi, 15, cmap='inferno', vmax=abs(zi).max(), vmin=-abs(zi).max())\n",
    "plt.colorbar() # draw colorbar\n",
    "\n",
    "# Grafica los puntos generados sobre el contorno.\n",
    "plt.scatter(x, y, marker='o', c='b', s=5, zorder=10)\n",
    "\n",
    "# Hace los límites de la gráfica exactos\n",
    "plt.axis([-2, 2, -2, 2])\n",
    "\n",
    "plt.title('Prueba para un contorno con datos generados')"
   ]
  },
  {
   "cell_type": "markdown",
   "metadata": {},
   "source": [
    "Por último, un detalle muy importante y que puede ser de mucha utilidad: La generación de subplots. Una figura puede contener varias subgraficas, para esto hay que especificar en cuantas gráficas vamos a dividir la figura en forma de renglones y columnas, y luego seleccionar la subgráfica en la que vamos a graficar. Por ejemplo\n",
    "\n",
    "    plt.subplot(2,2,1)\n",
    "    \n",
    "significa que la figura la vamos a dividir en 2 renglones y dos columnas (cuatro subgráficas) y vamos a escribir sobre la subgráfica 1. Lo mejor es ilustrarlo con un ejemplo muy simple."
   ]
  },
  {
   "cell_type": "code",
   "execution_count": 95,
   "metadata": {
    "collapsed": false
   },
   "outputs": [
    {
     "data": {
      "text/plain": [
       "<matplotlib.text.Text at 0xaa979c0c>"
      ]
     },
     "execution_count": 95,
     "metadata": {},
     "output_type": "execute_result"
    },
    {
     "data": {
      "image/png": "[encoded data removed]",
      "text/plain": [
       "<matplotlib.figure.Figure at 0xaaab450c>"
      ]
     },
     "metadata": {},
     "output_type": "display_data"
    }
   ],
   "source": [
    "x = np.linspace(0, 5, 1000)\n",
    "y1 = np.exp(-0.2 * x) * np.cos(2 * np.pi * x)\n",
    "y2 = np.cos(2 * np.pi * x)\n",
    "y3 = np.exp(0.2 * x) * np.cos(2 * np.pi * x)\n",
    "y4 = np.exp(-0.1 * x)\n",
    "\n",
    "plt.subplot(2, 2, 1)\n",
    "plt.plot(x, y1)\n",
    "plt.title('Estable subamortiguado')\n",
    "\n",
    "plt.subplot(2, 2, 2)\n",
    "plt.plot(x, y2)\n",
    "plt.title('Criticamente estable')\n",
    "\n",
    "plt.subplot(2, 2, 3)\n",
    "plt.plot(x, y3)\n",
    "plt.title('inestable')\n",
    "\n",
    "plt.subplot(2, 2, 4)\n",
    "plt.plot(x, y4)\n",
    "plt.title('Estable sobreamortiguado')\n",
    "\n"
   ]
  },
  {
   "cell_type": "markdown",
   "metadata": {},
   "source": [
    "### Ultimo trabajo (50 puntos)"
   ]
  },
  {
   "cell_type": "markdown",
   "metadata": {},
   "source": [
    "Realiza lo siguiente en varias celdas abajo de esta:\n",
    "\n",
    "* Genera un vector de 1000 datos aleatorios distribuidos de acuerdo a una gaussiana con media 3 y varianza .5, y otro vector con 1000 datos aleatorios distribuidos con una madia 0 y una varianza unitaria. Al concatenar los dos vectores, estás generando una serie de datos proveniente de una distribución conocida como suma de gaussianas. Para ver como es esta distribución de datos, grafíca un histograma (con un número suficiente de bins).\n",
    "\n",
    "* Genera un vector de datos de entrada `x = np.linspace(0, 1, 1000)` y grafica $\\sin(2\\pi x)$, $\\sin(4\\pi x)$, $\\sin(8\\pi x)$. ¿Que conlusión puedes sacar al respecto? Realiza la gráfica con titulo, ejes, etiquetas y todo lo necesario para que sea publicable.\n",
    "\n",
    "* Grafica la función $e^{-t}\\cos(2\\pi t)$ para $t \\in [0, 5]$. Asegurate que la gráfica sea una linea punteada de color rojo, que la gráfica tenga título, etiqueta en el eje de $t$ (tiempo), etiqueta en el eje de $y$ (voltaje en $\\mu$V), y una nota donde se escriba la ecuación simulada.\n",
    "\n",
    "* Copia el ejemplo de la galería de matplotlib http://matplotlib.org/examples/pylab_examples/shading_example.html y modificalo para que se grafique dentro de la libreta. Una vez funcionando, comenta *cada linea de código* dejando bien claro **en español y con tus palabras** que es lo que hace cada una de las lineas."
   ]
  },
  {
   "cell_type": "code",
   "execution_count": null,
   "metadata": {
    "collapsed": false
   },
   "outputs": [],
   "source": [
    "#Agrega aqui el primer problema y resualve cada problema en una celda independiente."
   ]
  }
 ],
 "metadata": {
  "kernelspec": {
   "display_name": "Python 3",
   "language": "python",
   "name": "python3"
  },
  "language_info": {
   "codemirror_mode": {
    "name": "ipython",
    "version": 3
   },
   "file_extension": ".py",
   "mimetype": "text/x-python",
   "name": "python",
   "nbconvert_exporter": "python",
   "pygments_lexer": "ipython3",
   "version": "3.4.3"
  }
 },
 "nbformat": 4,
 "nbformat_minor": 0
}
